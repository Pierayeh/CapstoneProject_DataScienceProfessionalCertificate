{
 "cells": [
  {
   "cell_type": "markdown",
   "metadata": {},
   "source": [
    "# <b> The Battle of Neighborhoods\n",
    "### <b> Capstone project for Coursera IBM Data science professional certificate"
   ]
  },
  {
   "cell_type": "markdown",
   "metadata": {},
   "source": [
    "### <b> Pierayeh Vahdani"
   ]
  },
  {
   "cell_type": "markdown",
   "metadata": {},
   "source": [
    "### Table of contents\n",
    "* [Introduction: Business Problem](#introduction)\n",
    "* [Data](#data)\n",
    "* [Methodology](#methodology)\n",
    "* [Analysis](#analysis)\n",
    "* [Results and Discussion](#results)\n",
    "* [Conclusion](#conclusion)"
   ]
  },
  {
   "cell_type": "markdown",
   "metadata": {},
   "source": [
    "# Introduction: Business Problem "
   ]
  },
  {
   "cell_type": "markdown",
   "metadata": {},
   "source": [
    "Vancouver with a population of 2,581,000 and Toronto with a population of 6,197,000 are Canada's two metropolitan cities. Although Vancouver has a population of about less than half of that of Toronto but it is still competing very closely with Toronto in terms of restaurants  and cafes. \n",
    "\n",
    "   In this project, I will compare the neighborhood of the two city. This report is specifically targeted a chain restaurant that would like to open a new branch in each city and tries to search to find the best\n",
    "location and a customized menu for each location. The chain considers 2 factors to decide about the location and the menu as follow: \n",
    "\n",
    "   1. The location should be in a popular neighborhood that can attract visitors. \n",
    "   2. The menu for each location should includes foods that are less offered by other restaurants in the         that neighborhood.  "
   ]
  },
  {
   "cell_type": "markdown",
   "metadata": {},
   "source": [
    "# Data "
   ]
  },
  {
   "cell_type": "markdown",
   "metadata": {},
   "source": [
    "Based on definition of our problem, factors that will influence our decision are:\n",
    "\n",
    "1. For the location: \n",
    "* Number of existing restaurants and other public venues such as parks, beaches, museums in the neighborhood. \n",
    "* Distance of neighborhood from city center. \n",
    "2. For the menu:\n",
    "* The dishes that are less offered by the restaurants in that neighborhood.  \n",
    "\n",
    "Following data sources will be needed to extract/generate the required information:\n",
    "* centers of candidate areas will be generated algorithmically and approximate addresses of centers of those areas will be obtained using **Wikipedia**\n",
    "* number of restaurants and their type and location in every neighborhood will be obtained using **Foursquare API**\n",
    "* coordinate of Vancouver will be obtained using ** The government of British Columbi's BC Address Geocoder website **. "
   ]
  },
  {
   "cell_type": "code",
   "execution_count": null,
   "metadata": {},
   "outputs": [],
   "source": []
  }
 ],
 "metadata": {
  "kernelspec": {
   "display_name": "Python",
   "language": "python",
   "name": "conda-env-python-py"
  },
  "language_info": {
   "codemirror_mode": {
    "name": "ipython",
    "version": 3
   },
   "file_extension": ".py",
   "mimetype": "text/x-python",
   "name": "python",
   "nbconvert_exporter": "python",
   "pygments_lexer": "ipython3",
   "version": "3.6.10"
  }
 },
 "nbformat": 4,
 "nbformat_minor": 4
}
